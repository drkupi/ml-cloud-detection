{
 "cells": [
  {
   "cell_type": "markdown",
   "metadata": {},
   "source": [
    "## Cloud Detection in Landsat 8 Images\n",
    "Author: Taimoor Akhtar\n",
    "\n",
    "Date: December 22, 2021"
   ]
  },
  {
   "cell_type": "markdown",
   "metadata": {},
   "source": [
    "### Problem Statement\n",
    "Using the **[SPARC Dataset](https://www.usgs.gov/landsat-missions/spatial-procedures-automated-removal-cloud-and-shadow-sparcs-validation-data)**"
   ]
  },
  {
   "cell_type": "code",
   "execution_count": 4,
   "metadata": {},
   "outputs": [],
   "source": [
    "import numpy as np\n",
    "from data_preparation import *\n",
    "from matplotlib import pyplot as pyplot\n",
    "%matplotlib inline"
   ]
  },
  {
   "cell_type": "markdown",
   "metadata": {},
   "source": [
    "### 1. Data Preparation\n",
    "\n",
    "#### 1.1. Divide data into Train, Validation and Test Sets\n",
    "We first divide the SPARC Dataset into three sets of training, validation and test sets. The basic strategy of division is to split the 80 Landsat images of SPARC into a subset of 50 training images, 15 validation images and 15 test images. Moreover, we attempt to ensure that proportion of cloud pixels in all datasets are similar.\n"
   ]
  },
  {
   "cell_type": "code",
   "execution_count": 5,
   "metadata": {},
   "outputs": [],
   "source": [
    "scene_ids = get_scene_ids() # First get image ids of all 80 images\n",
    "_, _, cloud_ratios = create_label_data(scene_ids) # Traverse the data labels of images to compute cloud proportions\n",
    "train_ids, val_ids, test_ids = create_train_validation_test_sets(scene_ids, cloud_ratios)"
   ]
  },
  {
   "cell_type": "code",
   "execution_count": 6,
   "metadata": {},
   "outputs": [
    {
     "name": "stdout",
     "output_type": "stream",
     "text": [
      "Proportion of cloud & shadow pixels in all data: 0.2675\n",
      "Proportion of cloud & shadow pixels in training data: 0.2722\n",
      "Proportion of cloud & shadow pixels in validation data: 0.2748\n",
      "Proportion of cloud & shadow pixels in test data: 0.2444\n"
     ]
    }
   ],
   "source": [
    "# Check if proportions of cloud & shadow pixels in all datasets are comparable\n",
    "print('Proportion of cloud & shadow pixels in all data: {0:0.4f}'. format(np.asarray(list(cloud_ratios.values())).mean()))\n",
    "train_ratios = {k:v for k, v in cloud_ratios.items() if k in train_ids}\n",
    "print('Proportion of cloud & shadow pixels in training data: {0:0.4f}'. format(np.asarray(list(train_ratios.values())).mean()))\n",
    "val_ratios = {k:v for k, v in cloud_ratios.items() if k in val_ids}\n",
    "print('Proportion of cloud & shadow pixels in validation data: {0:0.4f}'. format(np.asarray(list(val_ratios.values())).mean()))\n",
    "test_ratios = {k:v for k, v in cloud_ratios.items() if k in test_ids}\n",
    "print('Proportion of cloud & shadow pixels in test data: {0:0.4f}'. format(np.asarray(list(test_ratios.values())).mean()))"
   ]
  },
  {
   "cell_type": "markdown",
   "metadata": {},
   "source": [
    "We see that our strategy of maintaining cloud & shadow pixel ratio of around 25% when splitting data into training, validation and test sets has worked well. We can store the image ids for the different sets for future purposes. "
   ]
  },
  {
   "cell_type": "code",
   "execution_count": 19,
   "metadata": {},
   "outputs": [],
   "source": [
    "import pickle\n",
    "pickle.dump(train_ids, open('training_set_ids.pkl', 'wb'))\n",
    "pickle.dump(val_ids, open('validation_set_ids.pkl', 'wb'))\n",
    "pickle.dump(test_ids, open('test_set_ids.pkl', 'wb'))"
   ]
  },
  {
   "cell_type": "markdown",
   "metadata": {},
   "source": [
    "#### 1.2. Prepare Input Features and Labels\n",
    "Now that the Landsat images are divided into training, validation and test sets, we now prepare input features and labels for the three sets. Initiat analysis of the Landsat band tif files revealed 10 bands for each input pixel. While it is possible to create new input features by combining different bands (via feature engineering), in this modeling exercise we will use the raw values of the 10 bands as input features only.   "
   ]
  },
  {
   "cell_type": "code",
   "execution_count": 7,
   "metadata": {},
   "outputs": [],
   "source": [
    "# A - Prepare training dataset\n",
    "df_train = None\n",
    "for scene_id in train_ids:\n",
    "    if df_train is None:\n",
    "        df_train = create_dataset_from_scene(scene_id)\n",
    "    else:\n",
    "        df = create_dataset_from_scene(scene_id)\n",
    "        df_train = df_train.append(df, ignore_index=True)"
   ]
  },
  {
   "cell_type": "code",
   "execution_count": 8,
   "metadata": {},
   "outputs": [],
   "source": [
    "# B - Prepare validation dataset\n",
    "df_val = None\n",
    "for scene_id in val_ids:\n",
    "    if df_val is None:\n",
    "        df_val = create_dataset_from_scene(scene_id)\n",
    "    else:\n",
    "        df = create_dataset_from_scene(scene_id)\n",
    "        df_val = df_val.append(df, ignore_index=True)"
   ]
  },
  {
   "cell_type": "code",
   "execution_count": 9,
   "metadata": {},
   "outputs": [],
   "source": [
    "# C - Prepare test dataset\n",
    "df_test = None\n",
    "for scene_id in test_ids:\n",
    "    if df_test is None:\n",
    "        df_test = create_dataset_from_scene(scene_id)\n",
    "    else:\n",
    "        df = create_dataset_from_scene(scene_id)\n",
    "        df_test = df_test.append(df, ignore_index=True)"
   ]
  },
  {
   "cell_type": "markdown",
   "metadata": {},
   "source": [
    "## 2. Model Development\n",
    "### 2.1. Train Initial Model\n",
    "We will now train an initial Machine Learning model using training data. Given its speed of training and prediction, we choose **LightGBM** as the ML algorithm for cloud detection."
   ]
  },
  {
   "cell_type": "code",
   "execution_count": 10,
   "metadata": {},
   "outputs": [
    {
     "name": "stderr",
     "output_type": "stream",
     "text": [
      "C:\\Users\\TPPA\\Miniconda3\\envs\\ml-cd\\lib\\site-packages\\lightgbm\\sklearn.py:736: UserWarning: 'verbose' argument is deprecated and will be removed in a future release of LightGBM. Pass 'log_evaluation()' callback via 'callbacks' argument instead.\n",
      "  _log_warning(\"'verbose' argument is deprecated and will be removed in a future release of LightGBM. \"\n"
     ]
    },
    {
     "name": "stdout",
     "output_type": "stream",
     "text": [
      "[10]\tTraining's binary_logloss: 0.318219\tValidation's binary_logloss: 0.380472\n",
      "[20]\tTraining's binary_logloss: 0.248299\tValidation's binary_logloss: 0.336764\n",
      "[30]\tTraining's binary_logloss: 0.221503\tValidation's binary_logloss: 0.323036\n",
      "[40]\tTraining's binary_logloss: 0.207743\tValidation's binary_logloss: 0.316318\n",
      "[50]\tTraining's binary_logloss: 0.198835\tValidation's binary_logloss: 0.31719\n",
      "[60]\tTraining's binary_logloss: 0.192462\tValidation's binary_logloss: 0.315468\n",
      "[70]\tTraining's binary_logloss: 0.187349\tValidation's binary_logloss: 0.317942\n",
      "[80]\tTraining's binary_logloss: 0.183455\tValidation's binary_logloss: 0.319798\n",
      "[90]\tTraining's binary_logloss: 0.179874\tValidation's binary_logloss: 0.320328\n",
      "[100]\tTraining's binary_logloss: 0.176471\tValidation's binary_logloss: 0.322623\n"
     ]
    },
    {
     "data": {
      "text/plain": [
       "<AxesSubplot:title={'center':'Metric during training'}, xlabel='Iterations', ylabel='binary_logloss'>"
      ]
     },
     "execution_count": 10,
     "metadata": {},
     "output_type": "execute_result"
    },
    {
     "data": {
      "image/png": "[encoded data removed]",
      "text/plain": [
       "<Figure size 432x288 with 1 Axes>"
      ]
     },
     "metadata": {
      "needs_background": "light"
     },
     "output_type": "display_data"
    }
   ],
   "source": [
    "import lightgbm as lgb\n",
    "\n",
    "# Create Input feature and output training and validation arrays\n",
    "X_train = df_train.drop(['label', 'bin_label'], axis=1)\n",
    "y_train = df_train['bin_label'].to_numpy() \n",
    "X_val = df_val.drop(['label', 'bin_label'], axis=1)\n",
    "y_val = df_val['bin_label'].to_numpy()\n",
    "\n",
    "# Fit LightGBM Classifier on\n",
    "model = lgb.LGBMClassifier()\n",
    "model.fit(X_train, y_train, eval_set=[(X_val, y_val), (X_train, y_train)], eval_names=['Validation', 'Training'], verbose=10)\n",
    "lgb.plot_metric(model)"
   ]
  },
  {
   "cell_type": "markdown",
   "metadata": {},
   "source": [
    "We will also test performance of the trained model on the validation dataset in order to assess if model performance is adequate with default **hyperparameters**."
   ]
  },
  {
   "cell_type": "code",
   "execution_count": 11,
   "metadata": {},
   "outputs": [
    {
     "name": "stdout",
     "output_type": "stream",
     "text": [
      "LightGBM Model training-set accuracy score: 0.9310\n",
      "LightGBM Model validation-set accuracy score: 0.8413\n"
     ]
    }
   ],
   "source": [
    "from sklearn.metrics import accuracy_score\n",
    "# Training set score\n",
    "y_pred_train = model.predict(X_train)\n",
    "print('LightGBM Model training-set accuracy score: {0:0.4f}'. format(accuracy_score(y_train, y_pred_train)))\n",
    "# Validation set score\n",
    "y_pred_val = model.predict(X_val)\n",
    "accuracy=accuracy_score(y_pred_val, y_val)\n",
    "print('LightGBM Model validation-set accuracy score: {0:0.4f}'.format(accuracy_score(y_val, y_pred_val)))"
   ]
  },
  {
   "cell_type": "markdown",
   "metadata": {},
   "source": [
    "### 2.2. Hyperparameter Tuning\n",
    "In section 2.1, we trained a LightGBM model to detect clouds and cloud shadows using **default** model hyperparameters. Using **accuracy** (i.e., fraction of predictions that model got right) as the  **evaluation metric** we quickly assessed the default model's accuracy on both training and validation datasets. The 93% accuracy in training and 86% accuracy in validation is good but there may be an opportunity to tune some hyperparameters to slightly improve upon this and to also guard against overfitting. Hence, we attempt to manually specify some hyperparameters based on recommendations provided in [this medium article](https://medium.com/sentinel-hub/improving-cloud-detection-with-machine-learning-c09dc5d7cf13). Moreover, `n_estimators` is reduced to 50 as we see that validation accuracy tends to become worse after 50 iterations. "
   ]
  },
  {
   "cell_type": "code",
   "execution_count": 12,
   "metadata": {},
   "outputs": [
    {
     "name": "stderr",
     "output_type": "stream",
     "text": [
      "C:\\Users\\TPPA\\Miniconda3\\envs\\ml-cd\\lib\\site-packages\\lightgbm\\sklearn.py:736: UserWarning: 'verbose' argument is deprecated and will be removed in a future release of LightGBM. Pass 'log_evaluation()' callback via 'callbacks' argument instead.\n",
      "  _log_warning(\"'verbose' argument is deprecated and will be removed in a future release of LightGBM. \"\n"
     ]
    },
    {
     "name": "stdout",
     "output_type": "stream",
     "text": [
      "[LightGBM] [Warning] min_data_in_leaf is set=1500, min_child_samples=20 will be ignored. Current value: min_data_in_leaf=1500\n",
      "[10]\tTraining's binary_logloss: 0.318219\tValidation's binary_logloss: 0.380472\n",
      "[20]\tTraining's binary_logloss: 0.248299\tValidation's binary_logloss: 0.336764\n",
      "[30]\tTraining's binary_logloss: 0.221503\tValidation's binary_logloss: 0.323036\n",
      "[40]\tTraining's binary_logloss: 0.207743\tValidation's binary_logloss: 0.316318\n",
      "[50]\tTraining's binary_logloss: 0.199539\tValidation's binary_logloss: 0.310315\n"
     ]
    },
    {
     "data": {
      "text/plain": [
       "<AxesSubplot:title={'center':'Metric during training'}, xlabel='Iterations', ylabel='binary_logloss'>"
      ]
     },
     "execution_count": 12,
     "metadata": {},
     "output_type": "execute_result"
    },
    {
     "data": {
      "image/png": "[encoded data removed]",
      "text/plain": [
       "<Figure size 432x288 with 1 Axes>"
      ]
     },
     "metadata": {
      "needs_background": "light"
     },
     "output_type": "display_data"
    }
   ],
   "source": [
    "params = {\n",
    "    \"min_data_in_leaf\": 1500,\n",
    "    \"n_estimators\": 50\n",
    "}\n",
    "tuned_model = lgb.LGBMClassifier(**params)\n",
    "tuned_model.fit(X_train, y_train, eval_set=[(X_val, y_val), (X_train, y_train)], eval_names=['Validation', 'Training'], verbose=10)\n",
    "lgb.plot_metric(tuned_model)"
   ]
  },
  {
   "cell_type": "markdown",
   "metadata": {},
   "source": [
    "We can now validate if model performance is satisfactory with modified **hyperparameters**."
   ]
  },
  {
   "cell_type": "code",
   "execution_count": 13,
   "metadata": {},
   "outputs": [
    {
     "name": "stdout",
     "output_type": "stream",
     "text": [
      "LightGBM Model training-set accuracy score: 0.9234\n",
      "LightGBM Model validation-set accuracy score: 0.8496\n"
     ]
    }
   ],
   "source": [
    "# Training set score\n",
    "y_pred_train = tuned_model.predict(X_train)\n",
    "print('LightGBM Model training-set accuracy score: {0:0.4f}'. format(accuracy_score(y_train, y_pred_train)))\n",
    "# Validation set score\n",
    "y_pred_val = tuned_model.predict(X_val)\n",
    "accuracy=accuracy_score(y_pred_val, y_val)\n",
    "print('LightGBM Model validation-set accuracy score: {0:0.4f}'.format(accuracy_score(y_val, y_pred_val)))"
   ]
  },
  {
   "cell_type": "markdown",
   "metadata": {},
   "source": [
    "The difference between training and validation accuracy scores has slightly reduced, implying a possible improvement in model robustness. We will not attempt further hyperparameter tuning. However, it is possible to automate the hyperparameter tuning process in future, to further improve model performance, by setting up grid search, random search or bayesian optimization for hyperparameter optimization. "
   ]
  },
  {
   "cell_type": "markdown",
   "metadata": {},
   "source": [
    "### 2.3. Feature Importance\n",
    "Lets also take a quick looks at feature importance, to see if some input bands can be dropped as model input features. "
   ]
  },
  {
   "cell_type": "code",
   "execution_count": 14,
   "metadata": {},
   "outputs": [
    {
     "data": {
      "text/plain": [
       "<AxesSubplot:title={'center':'Feature importance'}, xlabel='Feature importance', ylabel='Features'>"
      ]
     },
     "execution_count": 14,
     "metadata": {},
     "output_type": "execute_result"
    },
    {
     "data": {
      "image/png": "[encoded data removed]",
      "text/plain": [
       "<Figure size 432x288 with 1 Axes>"
      ]
     },
     "metadata": {
      "needs_background": "light"
     },
     "output_type": "display_data"
    }
   ],
   "source": [
    "lgb.plot_importance(tuned_model)"
   ]
  },
  {
   "cell_type": "markdown",
   "metadata": {},
   "source": [
    "It is very evident that all Landsat image bands are importance input features for cloud detection."
   ]
  },
  {
   "cell_type": "markdown",
   "metadata": {},
   "source": [
    "## 3. Model Evaluation\n",
    "We will now evaluate our trained LightGBM model on the independent test set. Moreover, we will save the final model to a file, so that it can be retrieved and used generically for cloud detection.\n",
    "\n",
    "### 3.1 Save Model\n",
    "We will first save the tuned model, so that it can be reloaded for cloud detection in future. "
   ]
  },
  {
   "cell_type": "code",
   "execution_count": 15,
   "metadata": {},
   "outputs": [],
   "source": [
    "import pickle\n",
    "pickle.dump(tuned_model, open('cloud_detection_model.pkl', 'wb'))"
   ]
  },
  {
   "cell_type": "markdown",
   "metadata": {},
   "source": [
    "### 3.2. Metric-based Model Testing\n",
    "We will now test the trained model on test set. One appropriate evaluation criteria could be the **confusion matrix**."
   ]
  },
  {
   "cell_type": "code",
   "execution_count": 16,
   "metadata": {},
   "outputs": [
    {
     "name": "stderr",
     "output_type": "stream",
     "text": [
      "C:\\Users\\TPPA\\Miniconda3\\envs\\ml-cd\\lib\\site-packages\\sklearn\\utils\\deprecation.py:87: FutureWarning: Function plot_confusion_matrix is deprecated; Function `plot_confusion_matrix` is deprecated in 1.0 and will be removed in 1.2. Use one of the class methods: ConfusionMatrixDisplay.from_predictions or ConfusionMatrixDisplay.from_estimator.\n",
      "  warnings.warn(msg, category=FutureWarning)\n"
     ]
    },
    {
     "data": {
      "text/plain": [
       "<sklearn.metrics._plot.confusion_matrix.ConfusionMatrixDisplay at 0x246c440e8e0>"
      ]
     },
     "execution_count": 16,
     "metadata": {},
     "output_type": "execute_result"
    },
    {
     "data": {
      "image/png": "[encoded data removed]",
      "text/plain": [
       "<Figure size 432x288 with 2 Axes>"
      ]
     },
     "metadata": {
      "needs_background": "light"
     },
     "output_type": "display_data"
    }
   ],
   "source": [
    "from sklearn.metrics import plot_confusion_matrix\n",
    "plot_confusion_matrix(tuned_model, df_test.drop(['label', 'bin_label'], axis=1), df_test['bin_label'].to_numpy(), normalize='all')"
   ]
  },
  {
   "cell_type": "markdown",
   "metadata": {},
   "source": [
    "The confusion matrix tends to indicate that we are working on a problem that is **imbalanced**, i.e., around 24% (0.074 + 0.17) of pixels in the test set are actually cloud & shadows. Hence, it is important to look at recall and precision in addition to accuracy, to ascertain model performance."
   ]
  },
  {
   "cell_type": "code",
   "execution_count": 17,
   "metadata": {},
   "outputs": [
    {
     "name": "stdout",
     "output_type": "stream",
     "text": [
      "LightGBM Model test-set accuracy score: 0.8511\n",
      "              precision    recall  f1-score   support\n",
      "\n",
      "   Not Cloud       0.90      0.90      0.90  11334254\n",
      "       Cloud       0.69      0.70      0.70   3665746\n",
      "\n",
      "    accuracy                           0.85  15000000\n",
      "   macro avg       0.80      0.80      0.80  15000000\n",
      "weighted avg       0.85      0.85      0.85  15000000\n",
      "\n"
     ]
    }
   ],
   "source": [
    "from sklearn.metrics import classification_report\n",
    "X_test = df_test.drop(['label', 'bin_label'], axis=1)\n",
    "y_test = df_test['bin_label'].to_numpy()\n",
    "y_pred_test = model.predict(X_test)\n",
    "\n",
    "print('LightGBM Model test-set accuracy score: {0:0.4f}'.format(accuracy_score(y_test, y_pred_test)))\n",
    "print(classification_report(y_test, y_pred_test, target_names=['Not Cloud', 'Cloud']))"
   ]
  },
  {
   "cell_type": "markdown",
   "metadata": {},
   "source": [
    "### 3.3. Model Performance Verdict and Future Improvements\n",
    "Looking closely at **precision** and **recall** scores (both at around 70%) gives a better picture of model performance. The model can definitely be improved by exploring other ML algorithms and also via a more robust hyperparameter tuning. Furthermore, it may be better to classify clouds & shadows separately. In the current model, we combined clouds and shadows into a single group to convert our problem into a binary classification problem for cloud detection."
   ]
  },
  {
   "cell_type": "markdown",
   "metadata": {},
   "source": [
    "### 3.3. Prediction Generalization\n",
    "We have created a generic function that can use the saved ML model to detect clouds for any image that is provided as input. It is assumed here that 10 Landsat bands are available as input features (with the same order) for making the prediction and that file format of the input tif / raster is the same as in the SPARC dataset. The generic function is called `detect_clouds`. We test the function below on one of the images from the test set."
   ]
  },
  {
   "cell_type": "code",
   "execution_count": 22,
   "metadata": {},
   "outputs": [],
   "source": [
    "from cloud_detection import detect_clouds\n",
    "scene_id = \"LC80150242014146LGN00_23\" #image id from test set\n",
    "\n",
    "cloud_mask = detect_clouds(scene_id) # the cloud mask is returned as numpy array and also stored as png"
   ]
  },
  {
   "cell_type": "markdown",
   "metadata": {},
   "source": [
    "The generated cloud mask png is stored in this repository for review. We can see that our algorithm has done a decent job of detecting clouds and cloud shadows. However, in this figure the algorithm is falsely tagging some pixels just outside the clouds and shadows as clouds & shadows. Maybe the classification **threshold** could be reduced in future to improve prediction. "
   ]
  }
 ],
 "metadata": {
  "interpreter": {
   "hash": "653f9128d384d980c0ffabb8bd5015fb0574b65d5b8dd3289b1027245fb3d56e"
  },
  "kernelspec": {
   "display_name": "Python 3.8.12 64-bit ('ml-cd': conda)",
   "language": "python",
   "name": "python3"
  },
  "language_info": {
   "codemirror_mode": {
    "name": "ipython",
    "version": 3
   },
   "file_extension": ".py",
   "mimetype": "text/x-python",
   "name": "python",
   "nbconvert_exporter": "python",
   "pygments_lexer": "ipython3",
   "version": "3.8.12"
  },
  "orig_nbformat": 4
 },
 "nbformat": 4,
 "nbformat_minor": 2
}
